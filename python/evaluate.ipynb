{
 "cells": [
  {
   "cell_type": "code",
   "execution_count": 4,
   "metadata": {},
   "outputs": [
    {
     "name": "stdout",
     "output_type": "stream",
     "text": [
      "0.03544256\n",
      "0.0\n",
      "0.03544256\n",
      "next value\n",
      "0.74123657\n",
      "0.6227188\n",
      "0.11851776999999997\n",
      "next value\n",
      "0.9904358\n",
      "1.0\n",
      "0.009564200000000023\n",
      "next value\n",
      "0.04347068\n",
      "0.009137154\n",
      "0.034333525999999996\n",
      "next value\n",
      "0.75173426\n",
      "0.5901698\n",
      "0.16156446000000002\n",
      "next value\n",
      "0.1712775\n",
      "0.2346477\n",
      "0.06337019999999999\n",
      "next value\n",
      "0.97175187\n",
      "1.0\n",
      "0.028248130000000038\n",
      "next value\n",
      "0.9158307\n",
      "0.9527622\n",
      "0.036931500000000006\n",
      "next value\n",
      "accuracy is\n",
      "0.93900345675\n",
      "loss is\n",
      "0.06099654325000001\n"
     ]
    }
   ],
   "source": [
    "network_size=8\n",
    "file_ts = open(\"results_ts.txt\" , \"r\")\n",
    "file_sim = open(\"results_sim.txt\" , \"r\")\n",
    "sum = 0\n",
    "\n",
    "for i in range(0, network_size):\n",
    "    x_ts = file_ts.readline()\n",
    "    x_sim = file_sim.readline()\n",
    "    y = abs(float(x_ts)-float(x_sim))\n",
    "    sum = sum +y\n",
    "    print(float(x_ts))\n",
    "    print(float(x_sim))\n",
    "    print(y)\n",
    "    print('next value')\n",
    "loss = sum / network_size\n",
    "accuracy = 1 - loss\n",
    "print('accuracy is')\n",
    "print(accuracy)\n",
    "print('loss is')\n",
    "print(loss)\n"
   ]
  },
  {
   "cell_type": "code",
   "execution_count": null,
   "metadata": {},
   "outputs": [],
   "source": []
  },
  {
   "cell_type": "code",
   "execution_count": null,
   "metadata": {},
   "outputs": [],
   "source": []
  },
  {
   "cell_type": "code",
   "execution_count": null,
   "metadata": {},
   "outputs": [],
   "source": []
  },
  {
   "cell_type": "code",
   "execution_count": null,
   "metadata": {},
   "outputs": [],
   "source": []
  }
 ],
 "metadata": {
  "kernelspec": {
   "display_name": "Python 3",
   "language": "python",
   "name": "python3"
  },
  "language_info": {
   "codemirror_mode": {
    "name": "ipython",
    "version": 3
   },
   "file_extension": ".py",
   "mimetype": "text/x-python",
   "name": "python",
   "nbconvert_exporter": "python",
   "pygments_lexer": "ipython3",
   "version": "3.7.3"
  }
 },
 "nbformat": 4,
 "nbformat_minor": 2
}
